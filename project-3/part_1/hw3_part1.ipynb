{
 "cells": [
  {
   "cell_type": "code",
   "execution_count": 2,
   "metadata": {
    "ExecuteTime": {
     "end_time": "2019-03-31T19:57:54.603329Z",
     "start_time": "2019-03-31T19:57:53.975759Z"
    }
   },
   "outputs": [
    {
     "name": "stdout",
     "output_type": "stream",
     "text": [
      "Monte Carlo integration result = 0.00000\n",
      "Importance sampling integration result = 0.00000\n",
      "True result = 0.00000\n",
      "--------------------------------------------------------------------------------\n",
      "Monte Carlo integration error = 0.00000\n",
      "Importance sampling integration error = 0.00000\n"
     ]
    },
    {
     "data": {
      "image/png": "[encoded data removed]",
      "text/plain": [
       "<Figure size 432x288 with 1 Axes>"
      ]
     },
     "metadata": {
      "needs_background": "light"
     },
     "output_type": "display_data"
    }
   ],
   "source": [
    "import numpy as np\n",
    "import matplotlib.pyplot as plt\n",
    "from scipy.stats import truncexpon\n",
    "from scipy.stats import norm\n",
    "\n",
    "%matplotlib inline\n",
    "\n",
    "def f_rvs(N):\n",
    "    return norm.rvs(size=N)\n",
    "\n",
    "def f(x):\n",
    "    return norm.pdf(x)\n",
    "\n",
    "def g_rvs(N, limit=4.5):\n",
    "    return truncexpon.rvs(loc=limit, b=np.inf, size=N)\n",
    "\n",
    "def g(x, limit=4.5):\n",
    "    return truncexpon.pdf(x, loc=limit, b=np.inf)\n",
    "\n",
    "def h(x, limit=4.5):\n",
    "    return np.where(x > limit, 1.0, 0.0)\n",
    "\n",
    "def I_1(rvs, limit=4.5):\n",
    "    return np.mean(h(rvs, limit))\n",
    "\n",
    "def I_2(rvs, limit=4.5):\n",
    "    return np.mean(h(rvs, limit) * f(rvs) / g(rvs, limit))\n",
    "\n",
    "N = 10000\n",
    "cut_off = 4.5\n",
    "\n",
    "norm_rvs = f_rvs(N)\n",
    "result_1 = I_1(norm_rvs, cut_off)\n",
    "\n",
    "expon_rvs = g_rvs(N, cut_off)\n",
    "result_2 = I_2(expon_rvs, cut_off)\n",
    "\n",
    "result_true = 1.0 - norm.cdf(cut_off)\n",
    "\n",
    "print('Monte Carlo integration result = {:.5f}'.format(result_1))\n",
    "print('Importance sampling integration result = {:.5f}'.format(result_2))\n",
    "print('True result = {:.5f}'.format(result_true))\n",
    "print(80 * '-')\n",
    "print('Monte Carlo integration error = {:.5f}'.format(np.abs(result_1-result_true)))\n",
    "print('Importance sampling integration error = {:.5f}'.format(np.abs(result_2-result_true)))\n",
    "\n",
    "plt.hist(norm_rvs, bins=100, label='$Yi$ from standard normal distribution', alpha=0.5, density=True)\n",
    "plt.hist(expon_rvs, bins=100, label='$X_i$ from exponential distribution truncated at {}'.format(cut_off),\n",
    "         alpha=0.5, density=True)\n",
    "plt.plot(np.linspace(-5,5,10000), norm.pdf(np.linspace(-5,5,10000)), label='Standard normal pdf')\n",
    "plt.legend()\n",
    "plt.show()"
   ]
  },
  {
   "cell_type": "code",
   "execution_count": 25,
   "metadata": {
    "ExecuteTime": {
     "end_time": "2019-03-31T20:23:32.609406Z",
     "start_time": "2019-03-31T20:23:29.101385Z"
    }
   },
   "outputs": [
    {
     "name": "stdout",
     "output_type": "stream",
     "text": [
      "Running MCMC\n"
     ]
    },
    {
     "name": "stderr",
     "output_type": "stream",
     "text": [
      "/usr/local/lib/python3.7/site-packages/ipykernel_launcher.py:57: RuntimeWarning: invalid value encountered in double_scalars\n"
     ]
    },
    {
     "name": "stdout",
     "output_type": "stream",
     "text": [
      "Running MCMCMHLOG\n"
     ]
    },
    {
     "data": {
      "image/png": "[encoded data removed]",
      "text/plain": [
       "<Figure size 432x288 with 1 Axes>"
      ]
     },
     "metadata": {
      "needs_background": "light"
     },
     "output_type": "display_data"
    }
   ],
   "source": [
    "import numpy as np\n",
    "from scipy.stats import gaussian_kde\n",
    "import matplotlib\n",
    "import matplotlib.pyplot as plt\n",
    "\n",
    "# class defining the posterior distribution for the coin flip example\n",
    "class target_coin_flip():\n",
    "    def __init__(self, NN, NH):\n",
    "        self.NN = NN # number of tosses\n",
    "        self.NH = NH # number of heads\n",
    "    def evaluate(self, H):\n",
    "        # samples from the posterior\n",
    "        pH=1 if (H>=0 and H<=1) else 0.0\n",
    "        return np.power(H,self.NH)*np.power(1-H,self.NN-self.NH)*pH\n",
    "\n",
    "#class defining the logarithmic representation of the posterior\n",
    "class target_log_coin_flip():\n",
    "    # TODO : use the \"target_coin_flip\" class as a starting point\n",
    "    #        and edit appropriately to convert to logarithmic scale\n",
    "    def __init__(self, num_tosses, num_heads):\n",
    "        self.num_tosses = num_tosses\n",
    "        self.num_heads = num_heads\n",
    "        self.num_tails = num_tosses - num_heads\n",
    "        \n",
    "    def evaluate(self, H):\n",
    "        # samples from the posterior\n",
    "        if 0.0 <= H <= 1.0:\n",
    "            log_pH = 0.0\n",
    "        else:\n",
    "            log_pH = -np.inf\n",
    "        \n",
    "        if H <= 0:\n",
    "            log_H = -np.inf\n",
    "        else:\n",
    "            log_H = np.log(H)\n",
    "            \n",
    "        if H >= 1:\n",
    "            log_1_H = -np.inf\n",
    "        else:\n",
    "            log_1_H = np.log(1 - H)\n",
    "            \n",
    "        return self.num_heads * log_H + self.num_tails * log_1_H + log_pH\n",
    "    \n",
    "def MCMC(target, starting_sample, num_iters=1e6, burnin=1e4):\n",
    "    print(\"Running MCMC\")\n",
    "    # Markov Chain Monte Carlo (MCMC) - Metropolis\n",
    "    current_sample = starting_sample\n",
    "    # proposal distribution is a Gaussian with mean 0.0 and std 0.1\n",
    "    proposal_mean = 0.0\n",
    "    proposal_sigma = 0.1\n",
    "    samples = []\n",
    "    samples.append(starting_sample)\n",
    "    for iter_ in range(int(num_iters)):\n",
    "        # GENERATION BASED ON PROPOSAL\n",
    "        next_sample_candidate = current_sample + proposal_mean + np.random.randn()*proposal_sigma\n",
    "        # ACCEPTANCE PROBABILITY - Metropolis\n",
    "        acceptance_prob = np.min([1.0, target.evaluate(next_sample_candidate)/(target.evaluate(current_sample))])\n",
    "        # ACCEPT OR REJECT with uniform probability\n",
    "        temp = np.random.rand()\n",
    "        if temp <= acceptance_prob:\n",
    "            # ACCEPTING THE CANDIDATE SAMPLE\n",
    "            samples.append(next_sample_candidate)\n",
    "            current_sample = next_sample_candidate\n",
    "        else:\n",
    "            samples.append(current_sample)\n",
    "    if len(samples)>burnin:\n",
    "        # keep only samples after burn-in iterations\n",
    "        samples=samples[int(burnin):]\n",
    "    else:\n",
    "        raise ValueError(\"Number of samples {:} smaller than burnin period {:}.\".format(len(samples), burnin))\n",
    "    return samples\n",
    "\n",
    "\n",
    "def MCMCLOG(logtarget, starting_sample, num_iters=1e6, burnin=1e4):\n",
    "    print(\"Running MCMCMHLOG\")\n",
    "    # Markov Chain Monte Carlo (MCMC) - Metropolis Hastings \n",
    "    # TODO: start from the \"MCMC\" function above and edit whenever\n",
    "    #       necessary to convert to logarithmic scale\n",
    "    current_sample = starting_sample\n",
    "    # proposal distribution is a Gaussian with mean 0.0 and std 0.1\n",
    "    proposal_mean = 0.0\n",
    "    proposal_sigma = 0.1\n",
    "    samples = [starting_sample]\n",
    "    for _ in range(int(num_iters)):\n",
    "        # GENERATION BASED ON PROPOSAL\n",
    "        next_sample_candidate = current_sample + proposal_mean + np.random.randn()*proposal_sigma\n",
    "        # ACCEPTANCE PROBABILITY - Metropolis\n",
    "        acceptance_prob = np.min([0.0, logtarget.evaluate(next_sample_candidate) - logtarget.evaluate(current_sample)])\n",
    "        # ACCEPT OR REJECT with uniform probability\n",
    "        temp = np.log(np.random.rand())\n",
    "        if temp <= acceptance_prob:\n",
    "            # ACCEPTING THE CANDIDATE SAMPLE\n",
    "            samples.append(next_sample_candidate)\n",
    "            current_sample = next_sample_candidate\n",
    "        else:\n",
    "            samples.append(current_sample)\n",
    "    if len(samples)>burnin:\n",
    "        # keep only samples after burn-in iterations\n",
    "        samples=samples[int(burnin):]\n",
    "    else:\n",
    "        raise ValueError(\"Number of samples {:} smaller than burnin period {:}.\".format(len(samples), burnin))\n",
    "    return samples\n",
    "\n",
    "if __name__ == \"__main__\":\n",
    "\n",
    "    #IN NN TOSSES, NH TIMES HEAD (NN>=NH)\n",
    "    NN = 3000 # NN = 300 / 3000 tosses\n",
    "    NH = 1500 # NH = 150 / 1500 heads\n",
    "    burnin = 1e2 # number of burn-in iterations\n",
    "    num_iters = 1e5 # number of total MCMC iterations\n",
    "    starting_sample = 0.5 # starting point for MCMC algorithm\n",
    "    \n",
    "    target = target_coin_flip(NN,NH)\n",
    "    samples_mcmc = MCMC(target, starting_sample, num_iters, burnin)\n",
    "    # plot histogram with samples drawn from posterior distribution with the MCMC algorithm\n",
    "    plt.hist(samples_mcmc, density=True, facecolor='g', alpha=0.7, bins=10, label=\"MCMC\") # if you're using python>3, use density=True instead of normed=True\n",
    "    plt.xlim([0,1])\n",
    "    plt.legend()\n",
    "\n",
    "    target = target_log_coin_flip(NN,NH)\n",
    "    samples_mcmclog = MCMCLOG(target, starting_sample, num_iters, burnin)\n",
    "    plt.hist(samples_mcmclog, density=True, facecolor='b', alpha=0.4, bins=10, label=\"MCMC-LOG\")\n",
    "    plt.xlim([0,1])\n",
    "    plt.legend()\n",
    "    plt.show()"
   ]
  },
  {
   "cell_type": "code",
   "execution_count": null,
   "metadata": {},
   "outputs": [],
   "source": []
  }
 ],
 "metadata": {
  "kernelspec": {
   "display_name": "Python 3",
   "language": "python",
   "name": "python3"
  },
  "language_info": {
   "codemirror_mode": {
    "name": "ipython",
    "version": 3
   },
   "file_extension": ".py",
   "mimetype": "text/x-python",
   "name": "python",
   "nbconvert_exporter": "python",
   "pygments_lexer": "ipython3",
   "version": "3.7.3"
  },
  "toc": {
   "base_numbering": 1,
   "nav_menu": {},
   "number_sections": true,
   "sideBar": true,
   "skip_h1_title": false,
   "title_cell": "Table of Contents",
   "title_sidebar": "Contents",
   "toc_cell": false,
   "toc_position": {},
   "toc_section_display": true,
   "toc_window_display": false
  }
 },
 "nbformat": 4,
 "nbformat_minor": 2
}
